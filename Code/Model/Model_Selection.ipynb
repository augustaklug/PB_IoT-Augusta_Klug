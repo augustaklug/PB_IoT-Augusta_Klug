{
 "cells": [
  {
   "cell_type": "code",
   "execution_count": null,
   "metadata": {
    "collapsed": true,
    "pycharm": {
     "name": "#%%\n",
     "is_executing": true
    }
   },
   "outputs": [],
   "source": [
    "!pip install pycaret --user"
   ]
  },
  {
   "cell_type": "code",
   "execution_count": 3,
   "outputs": [],
   "source": [
    "import pandas as pd\n",
    "import seaborn as sns\n",
    "import numpy as np\n",
    "import matplotlib.pyplot as plt\n",
    "import warnings\n",
    "warnings.filterwarnings(\"ignore\")\n",
    "\n",
    "sns.set(style=\"whitegrid\", palette=\"Dark2\")\n",
    "\n",
    "from sklearn.model_selection import train_test_split"
   ],
   "metadata": {
    "collapsed": false,
    "pycharm": {
     "name": "#%%\n"
    }
   }
  },
  {
   "cell_type": "code",
   "execution_count": 4,
   "outputs": [],
   "source": [
    "df = pd.read_csv('../../Data/Processed/Occupancy_processed.csv', parse_dates=['date'])\n",
    "df.set_index('date', inplace=True)"
   ],
   "metadata": {
    "collapsed": false,
    "pycharm": {
     "name": "#%%\n"
    }
   }
  },
  {
   "cell_type": "markdown",
   "source": [
    "## Divisão manual em treino-teste"
   ],
   "metadata": {
    "collapsed": false,
    "pycharm": {
     "name": "#%% md\n"
    }
   }
  },
  {
   "cell_type": "code",
   "execution_count": 5,
   "outputs": [],
   "source": [
    "X = df.drop(['Occupancy'], axis=1)\n",
    "y = df.Occupancy"
   ],
   "metadata": {
    "collapsed": false,
    "pycharm": {
     "name": "#%%\n"
    }
   }
  },
  {
   "cell_type": "code",
   "execution_count": 6,
   "outputs": [],
   "source": [
    "X_train, X_test, y_train, y_test = train_test_split(X, y,stratify = df.Occupancy, test_size = 0.3, random_state = 42)"
   ],
   "metadata": {
    "collapsed": false,
    "pycharm": {
     "name": "#%%\n"
    }
   }
  },
  {
   "cell_type": "code",
   "execution_count": 7,
   "outputs": [
    {
     "name": "stdout",
     "output_type": "stream",
     "text": [
      "(14392, 5) (14392,) (6168, 5) (6168,)\n"
     ]
    }
   ],
   "source": [
    "print(X_train.shape, y_train.shape, X_test.shape, y_test.shape)"
   ],
   "metadata": {
    "collapsed": false,
    "pycharm": {
     "name": "#%%\n"
    }
   }
  },
  {
   "cell_type": "markdown",
   "source": [
    "### Checando distribuição de classes entre as amostras"
   ],
   "metadata": {
    "collapsed": false,
    "pycharm": {
     "name": "#%% md\n"
    }
   }
  },
  {
   "cell_type": "code",
   "execution_count": 8,
   "outputs": [
    {
     "data": {
      "text/plain": "           Dados Originais  Treinamento     Teste\nEmpty             0.768969     0.768969  0.768969\nOccupancy         0.231031     0.231031  0.231031",
      "text/html": "<div>\n<style scoped>\n    .dataframe tbody tr th:only-of-type {\n        vertical-align: middle;\n    }\n\n    .dataframe tbody tr th {\n        vertical-align: top;\n    }\n\n    .dataframe thead th {\n        text-align: right;\n    }\n</style>\n<table border=\"1\" class=\"dataframe\">\n  <thead>\n    <tr style=\"text-align: right;\">\n      <th></th>\n      <th>Dados Originais</th>\n      <th>Treinamento</th>\n      <th>Teste</th>\n    </tr>\n  </thead>\n  <tbody>\n    <tr>\n      <th>Empty</th>\n      <td>0.768969</td>\n      <td>0.768969</td>\n      <td>0.768969</td>\n    </tr>\n    <tr>\n      <th>Occupancy</th>\n      <td>0.231031</td>\n      <td>0.231031</td>\n      <td>0.231031</td>\n    </tr>\n  </tbody>\n</table>\n</div>"
     },
     "execution_count": 8,
     "metadata": {},
     "output_type": "execute_result"
    }
   ],
   "source": [
    "# checando distribuição entre as amostras\n",
    "dist = pd.DataFrame(df.Occupancy.value_counts(normalize = True).values, columns = ['Dados Originais'],\n",
    "                    index = df.Occupancy.value_counts().index)\n",
    "dist['Treinamento'] = y_train.value_counts(normalize = True).values\n",
    "dist['Teste'] = y_test.value_counts(normalize = True).values\n",
    "dist"
   ],
   "metadata": {
    "collapsed": false,
    "pycharm": {
     "name": "#%%\n"
    }
   }
  },
  {
   "cell_type": "markdown",
   "source": [
    "## Comparação de modelos com pycaret"
   ],
   "metadata": {
    "collapsed": false,
    "pycharm": {
     "name": "#%% md\n"
    }
   }
  },
  {
   "cell_type": "code",
   "execution_count": 16,
   "outputs": [
    {
     "data": {
      "text/plain": "<IPython.core.display.HTML object>",
      "text/html": "\n            <script src=\"/static/components/requirejs/require.js\"></script>\n            <script>\n              requirejs.config({\n                paths: {\n                  base: '/static/base',\n                  plotly: 'https://cdn.plot.ly/plotly-latest.min.js?noext',\n                },\n              });\n            </script>\n            "
     },
     "metadata": {},
     "output_type": "display_data"
    }
   ],
   "source": [
    "from pycaret.classification import *\n",
    "from pycaret.utils import enable_colab\n",
    "enable_colab()"
   ],
   "metadata": {
    "collapsed": false,
    "pycharm": {
     "name": "#%%\n"
    }
   }
  },
  {
   "cell_type": "code",
   "execution_count": 17,
   "outputs": [
    {
     "data": {
      "text/plain": "<IPython.core.display.HTML object>",
      "text/html": "\n            <script src=\"/static/components/requirejs/require.js\"></script>\n            <script>\n              requirejs.config({\n                paths: {\n                  base: '/static/base',\n                  plotly: 'https://cdn.plot.ly/plotly-latest.min.js?noext',\n                },\n              });\n            </script>\n            "
     },
     "metadata": {},
     "output_type": "display_data"
    },
    {
     "data": {
      "text/plain": "<IPython.core.display.HTML object>",
      "text/html": "\n            <script src=\"/static/components/requirejs/require.js\"></script>\n            <script>\n              requirejs.config({\n                paths: {\n                  base: '/static/base',\n                  plotly: 'https://cdn.plot.ly/plotly-latest.min.js?noext',\n                },\n              });\n            </script>\n            "
     },
     "metadata": {},
     "output_type": "display_data"
    },
    {
     "name": "stdout",
     "output_type": "stream",
     "text": [
      "                    Description                   Value\n",
      "0                    Session id                      42\n",
      "1                        Target               Occupancy\n",
      "2                   Target type                  Binary\n",
      "3                Target mapping  Empty: 0, Occupancy: 1\n",
      "4           Original data shape              (20560, 6)\n",
      "5        Transformed data shape              (20560, 6)\n",
      "6   Transformed train set shape              (14391, 6)\n",
      "7    Transformed test set shape               (6169, 6)\n",
      "8              Numeric features                       5\n",
      "9                    Preprocess                    True\n",
      "10              Imputation type                  simple\n",
      "11           Numeric imputation                    mean\n",
      "12       Categorical imputation                constant\n",
      "13       Low variance threshold                       0\n",
      "14               Fold Generator         StratifiedKFold\n",
      "15                  Fold Number                      10\n",
      "16                     CPU Jobs                      -1\n",
      "17                      Use GPU                   False\n",
      "18               Log Experiment                   False\n",
      "19              Experiment Name        clf-default-name\n",
      "20                          USI                    d641\n"
     ]
    }
   ],
   "source": [
    "s = setup(data = df,\n",
    "               target = 'Occupancy',\n",
    "               html=False,\n",
    "               session_id=42)"
   ],
   "metadata": {
    "collapsed": false,
    "pycharm": {
     "name": "#%%\n"
    }
   }
  },
  {
   "cell_type": "code",
   "execution_count": 19,
   "outputs": [
    {
     "data": {
      "text/plain": "<IPython.core.display.HTML object>",
      "text/html": "\n            <script src=\"/static/components/requirejs/require.js\"></script>\n            <script>\n              requirejs.config({\n                paths: {\n                  base: '/static/base',\n                  plotly: 'https://cdn.plot.ly/plotly-latest.min.js?noext',\n                },\n              });\n            </script>\n            "
     },
     "metadata": {},
     "output_type": "display_data"
    },
    {
     "data": {
      "text/plain": "<IPython.core.display.HTML object>",
      "text/html": "\n            <script src=\"/static/components/requirejs/require.js\"></script>\n            <script>\n              requirejs.config({\n                paths: {\n                  base: '/static/base',\n                  plotly: 'https://cdn.plot.ly/plotly-latest.min.js?noext',\n                },\n              });\n            </script>\n            "
     },
     "metadata": {},
     "output_type": "display_data"
    },
    {
     "name": "stderr",
     "output_type": "stream",
     "text": [
      "                                                           "
     ]
    },
    {
     "name": "stdout",
     "output_type": "stream",
     "text": [
      "                                    Model  Accuracy     AUC  Recall   Prec.  \\\n",
      "et                 Extra Trees Classifier    0.9932  0.9994  0.9874  0.9833   \n",
      "lightgbm  Light Gradient Boosting Machine    0.9928  0.9991  0.9892  0.9798   \n",
      "rf               Random Forest Classifier    0.9925  0.9994  0.9892  0.9787   \n",
      "gbc          Gradient Boosting Classifier    0.9904  0.9982  0.9922  0.9672   \n",
      "ada                  Ada Boost Classifier    0.9903  0.9979  0.9949  0.9642   \n",
      "knn                K Neighbors Classifier    0.9898  0.9959  0.9895  0.9671   \n",
      "dt               Decision Tree Classifier    0.9898  0.9858  0.9783  0.9775   \n",
      "lr                    Logistic Regression    0.9894  0.9949  0.9958  0.9601   \n",
      "ridge                    Ridge Classifier    0.9866  0.0000  0.9976  0.9473   \n",
      "lda          Linear Discriminant Analysis    0.9864  0.9946  0.9973  0.9467   \n",
      "qda       Quadratic Discriminant Analysis    0.9824  0.9948  0.9952  0.9330   \n",
      "nb                            Naive Bayes    0.9673  0.9940  0.9982  0.8774   \n",
      "svm                   SVM - Linear Kernel    0.9638  0.0000  0.9141  0.9339   \n",
      "dummy                    Dummy Classifier    0.7690  0.5000  0.0000  0.0000   \n",
      "\n",
      "              F1   Kappa     MCC  TT (Sec)  \n",
      "et        0.9853  0.9809  0.9809     0.079  \n",
      "lightgbm  0.9844  0.9797  0.9798     0.110  \n",
      "rf        0.9839  0.9790  0.9790     0.145  \n",
      "gbc       0.9795  0.9733  0.9734     0.192  \n",
      "ada       0.9793  0.9729  0.9732     0.077  \n",
      "knn       0.9782  0.9715  0.9716     0.031  \n",
      "dt        0.9779  0.9713  0.9713     0.019  \n",
      "lr        0.9776  0.9707  0.9710     0.027  \n",
      "ridge     0.9718  0.9630  0.9636     0.016  \n",
      "lda       0.9713  0.9624  0.9630     0.020  \n",
      "qda       0.9631  0.9515  0.9524     0.017  \n",
      "nb        0.9338  0.9122  0.9156     0.016  \n",
      "svm       0.8993  0.8815  0.8941     0.027  \n",
      "dummy     0.0000  0.0000  0.0000     0.016  \n"
     ]
    },
    {
     "name": "stderr",
     "output_type": "stream",
     "text": [
      "\r"
     ]
    }
   ],
   "source": [
    "best_model = compare_models()"
   ],
   "metadata": {
    "collapsed": false,
    "pycharm": {
     "name": "#%%\n"
    }
   }
  },
  {
   "cell_type": "code",
   "execution_count": 26,
   "outputs": [
    {
     "data": {
      "text/plain": "<IPython.core.display.HTML object>",
      "text/html": "\n            <script src=\"/static/components/requirejs/require.js\"></script>\n            <script>\n              requirejs.config({\n                paths: {\n                  base: '/static/base',\n                  plotly: 'https://cdn.plot.ly/plotly-latest.min.js?noext',\n                },\n              });\n            </script>\n            "
     },
     "metadata": {},
     "output_type": "display_data"
    },
    {
     "data": {
      "text/plain": "<IPython.core.display.HTML object>",
      "text/html": "\n            <script src=\"/static/components/requirejs/require.js\"></script>\n            <script>\n              requirejs.config({\n                paths: {\n                  base: '/static/base',\n                  plotly: 'https://cdn.plot.ly/plotly-latest.min.js?noext',\n                },\n              });\n            </script>\n            "
     },
     "metadata": {},
     "output_type": "display_data"
    },
    {
     "name": "stdout",
     "output_type": "stream",
     "text": [
      "ExtraTreesClassifier(bootstrap=False, ccp_alpha=0.0, class_weight=None,\n",
      "                     criterion='gini', max_depth=None, max_features='sqrt',\n",
      "                     max_leaf_nodes=None, max_samples=None,\n",
      "                     min_impurity_decrease=0.0, min_samples_leaf=1,\n",
      "                     min_samples_split=2, min_weight_fraction_leaf=0.0,\n",
      "                     n_estimators=100, n_jobs=-1, oob_score=False,\n",
      "                     random_state=42, verbose=0, warm_start=False)\n"
     ]
    }
   ],
   "source": [
    "print(best_model)"
   ],
   "metadata": {
    "collapsed": false,
    "pycharm": {
     "name": "#%%\n"
    }
   }
  },
  {
   "cell_type": "code",
   "execution_count": 23,
   "outputs": [
    {
     "data": {
      "text/plain": "<IPython.core.display.HTML object>",
      "text/html": "\n            <script src=\"/static/components/requirejs/require.js\"></script>\n            <script>\n              requirejs.config({\n                paths: {\n                  base: '/static/base',\n                  plotly: 'https://cdn.plot.ly/plotly-latest.min.js?noext',\n                },\n              });\n            </script>\n            "
     },
     "metadata": {},
     "output_type": "display_data"
    },
    {
     "data": {
      "text/plain": "<IPython.core.display.HTML object>",
      "text/html": "\n            <script src=\"/static/components/requirejs/require.js\"></script>\n            <script>\n              requirejs.config({\n                paths: {\n                  base: '/static/base',\n                  plotly: 'https://cdn.plot.ly/plotly-latest.min.js?noext',\n                },\n              });\n            </script>\n            "
     },
     "metadata": {},
     "output_type": "display_data"
    },
    {
     "data": {
      "text/plain": "<Figure size 432x288 with 1 Axes>",
      "image/png": "[encoded data removed]"
     },
     "metadata": {
      "needs_background": "light"
     },
     "output_type": "display_data"
    }
   ],
   "source": [
    "plot_model(best_model, plot = 'auc')"
   ],
   "metadata": {
    "collapsed": false,
    "pycharm": {
     "name": "#%%\n"
    }
   }
  },
  {
   "cell_type": "code",
   "execution_count": 31,
   "outputs": [
    {
     "data": {
      "text/plain": "<IPython.core.display.HTML object>",
      "text/html": "\n            <script src=\"/static/components/requirejs/require.js\"></script>\n            <script>\n              requirejs.config({\n                paths: {\n                  base: '/static/base',\n                  plotly: 'https://cdn.plot.ly/plotly-latest.min.js?noext',\n                },\n              });\n            </script>\n            "
     },
     "metadata": {},
     "output_type": "display_data"
    },
    {
     "data": {
      "text/plain": "<IPython.core.display.HTML object>",
      "text/html": "\n            <script src=\"/static/components/requirejs/require.js\"></script>\n            <script>\n              requirejs.config({\n                paths: {\n                  base: '/static/base',\n                  plotly: 'https://cdn.plot.ly/plotly-latest.min.js?noext',\n                },\n              });\n            </script>\n            "
     },
     "metadata": {},
     "output_type": "display_data"
    },
    {
     "data": {
      "text/plain": "<Figure size 800x500 with 1 Axes>",
      "image/png": "[encoded data removed]"
     },
     "metadata": {
      "needs_background": "light"
     },
     "output_type": "display_data"
    }
   ],
   "source": [
    "plot_model(best_model, plot = 'feature')"
   ],
   "metadata": {
    "collapsed": false,
    "pycharm": {
     "name": "#%%\n"
    }
   }
  },
  {
   "cell_type": "code",
   "execution_count": 24,
   "outputs": [
    {
     "data": {
      "text/plain": "<IPython.core.display.HTML object>",
      "text/html": "\n            <script src=\"/static/components/requirejs/require.js\"></script>\n            <script>\n              requirejs.config({\n                paths: {\n                  base: '/static/base',\n                  plotly: 'https://cdn.plot.ly/plotly-latest.min.js?noext',\n                },\n              });\n            </script>\n            "
     },
     "metadata": {},
     "output_type": "display_data"
    },
    {
     "data": {
      "text/plain": "<IPython.core.display.HTML object>",
      "text/html": "\n            <script src=\"/static/components/requirejs/require.js\"></script>\n            <script>\n              requirejs.config({\n                paths: {\n                  base: '/static/base',\n                  plotly: 'https://cdn.plot.ly/plotly-latest.min.js?noext',\n                },\n              });\n            </script>\n            "
     },
     "metadata": {},
     "output_type": "display_data"
    },
    {
     "data": {
      "text/plain": "<Figure size 432x288 with 1 Axes>",
      "image/png": "[encoded data removed]"
     },
     "metadata": {
      "needs_background": "light"
     },
     "output_type": "display_data"
    }
   ],
   "source": [
    "plot_model(best_model, plot = 'confusion_matrix')"
   ],
   "metadata": {
    "collapsed": false,
    "pycharm": {
     "name": "#%%\n"
    }
   }
  },
  {
   "cell_type": "code",
   "execution_count": 25,
   "outputs": [
    {
     "data": {
      "text/plain": "<IPython.core.display.HTML object>",
      "text/html": "\n            <script src=\"/static/components/requirejs/require.js\"></script>\n            <script>\n              requirejs.config({\n                paths: {\n                  base: '/static/base',\n                  plotly: 'https://cdn.plot.ly/plotly-latest.min.js?noext',\n                },\n              });\n            </script>\n            "
     },
     "metadata": {},
     "output_type": "display_data"
    },
    {
     "data": {
      "text/plain": "<IPython.core.display.HTML object>",
      "text/html": "\n            <script src=\"/static/components/requirejs/require.js\"></script>\n            <script>\n              requirejs.config({\n                paths: {\n                  base: '/static/base',\n                  plotly: 'https://cdn.plot.ly/plotly-latest.min.js?noext',\n                },\n              });\n            </script>\n            "
     },
     "metadata": {},
     "output_type": "display_data"
    },
    {
     "name": "stdout",
     "output_type": "stream",
     "text": [
      "                    Model  Accuracy     AUC  Recall  Prec.  F1   Kappa     MCC\n",
      "0  Extra Trees Classifier    0.9932  0.9991       0      0   0  0.9809  0.9809\n"
     ]
    },
    {
     "data": {
      "text/plain": "       Temperature   Humidity  Light     CO2  HumidityRatio Occupancy  Label  \\\n14391    20.389999  33.000000    0.0   513.0       0.004891     Empty  Empty   \n14392    21.700001  28.566668    0.0   582.0       0.004587     Empty  Empty   \n14393    20.790001  26.100000    0.0  1514.0       0.003959     Empty  Empty   \n14394    20.745001  27.100000    0.0  1420.0       0.004101     Empty  Empty   \n14395    20.500000  30.389999    0.0   749.0       0.004533     Empty  Empty   \n...            ...        ...    ...     ...            ...       ...    ...   \n20555    20.600000  22.533333    0.0   635.0       0.003375     Empty  Empty   \n20556    20.000000  35.700001    0.0   539.0       0.005168     Empty  Empty   \n20557    19.290001  31.000000    6.0   436.5       0.004288     Empty  Empty   \n20558    20.200001  21.200001    0.0   444.0       0.003097     Empty  Empty   \n20559    19.290001  31.600000    0.0   431.0       0.004371     Empty  Empty   \n\n       Score  \n14391   1.00  \n14392   0.98  \n14393   1.00  \n14394   1.00  \n14395   1.00  \n...      ...  \n20555   1.00  \n20556   1.00  \n20557   1.00  \n20558   1.00  \n20559   1.00  \n\n[6169 rows x 8 columns]",
      "text/html": "<div>\n<style scoped>\n    .dataframe tbody tr th:only-of-type {\n        vertical-align: middle;\n    }\n\n    .dataframe tbody tr th {\n        vertical-align: top;\n    }\n\n    .dataframe thead th {\n        text-align: right;\n    }\n</style>\n<table border=\"1\" class=\"dataframe\">\n  <thead>\n    <tr style=\"text-align: right;\">\n      <th></th>\n      <th>Temperature</th>\n      <th>Humidity</th>\n      <th>Light</th>\n      <th>CO2</th>\n      <th>HumidityRatio</th>\n      <th>Occupancy</th>\n      <th>Label</th>\n      <th>Score</th>\n    </tr>\n  </thead>\n  <tbody>\n    <tr>\n      <th>14391</th>\n      <td>20.389999</td>\n      <td>33.000000</td>\n      <td>0.0</td>\n      <td>513.0</td>\n      <td>0.004891</td>\n      <td>Empty</td>\n      <td>Empty</td>\n      <td>1.00</td>\n    </tr>\n    <tr>\n      <th>14392</th>\n      <td>21.700001</td>\n      <td>28.566668</td>\n      <td>0.0</td>\n      <td>582.0</td>\n      <td>0.004587</td>\n      <td>Empty</td>\n      <td>Empty</td>\n      <td>0.98</td>\n    </tr>\n    <tr>\n      <th>14393</th>\n      <td>20.790001</td>\n      <td>26.100000</td>\n      <td>0.0</td>\n      <td>1514.0</td>\n      <td>0.003959</td>\n      <td>Empty</td>\n      <td>Empty</td>\n      <td>1.00</td>\n    </tr>\n    <tr>\n      <th>14394</th>\n      <td>20.745001</td>\n      <td>27.100000</td>\n      <td>0.0</td>\n      <td>1420.0</td>\n      <td>0.004101</td>\n      <td>Empty</td>\n      <td>Empty</td>\n      <td>1.00</td>\n    </tr>\n    <tr>\n      <th>14395</th>\n      <td>20.500000</td>\n      <td>30.389999</td>\n      <td>0.0</td>\n      <td>749.0</td>\n      <td>0.004533</td>\n      <td>Empty</td>\n      <td>Empty</td>\n      <td>1.00</td>\n    </tr>\n    <tr>\n      <th>...</th>\n      <td>...</td>\n      <td>...</td>\n      <td>...</td>\n      <td>...</td>\n      <td>...</td>\n      <td>...</td>\n      <td>...</td>\n      <td>...</td>\n    </tr>\n    <tr>\n      <th>20555</th>\n      <td>20.600000</td>\n      <td>22.533333</td>\n      <td>0.0</td>\n      <td>635.0</td>\n      <td>0.003375</td>\n      <td>Empty</td>\n      <td>Empty</td>\n      <td>1.00</td>\n    </tr>\n    <tr>\n      <th>20556</th>\n      <td>20.000000</td>\n      <td>35.700001</td>\n      <td>0.0</td>\n      <td>539.0</td>\n      <td>0.005168</td>\n      <td>Empty</td>\n      <td>Empty</td>\n      <td>1.00</td>\n    </tr>\n    <tr>\n      <th>20557</th>\n      <td>19.290001</td>\n      <td>31.000000</td>\n      <td>6.0</td>\n      <td>436.5</td>\n      <td>0.004288</td>\n      <td>Empty</td>\n      <td>Empty</td>\n      <td>1.00</td>\n    </tr>\n    <tr>\n      <th>20558</th>\n      <td>20.200001</td>\n      <td>21.200001</td>\n      <td>0.0</td>\n      <td>444.0</td>\n      <td>0.003097</td>\n      <td>Empty</td>\n      <td>Empty</td>\n      <td>1.00</td>\n    </tr>\n    <tr>\n      <th>20559</th>\n      <td>19.290001</td>\n      <td>31.600000</td>\n      <td>0.0</td>\n      <td>431.0</td>\n      <td>0.004371</td>\n      <td>Empty</td>\n      <td>Empty</td>\n      <td>1.00</td>\n    </tr>\n  </tbody>\n</table>\n<p>6169 rows × 8 columns</p>\n</div>"
     },
     "execution_count": 25,
     "metadata": {},
     "output_type": "execute_result"
    }
   ],
   "source": [
    "predict_model(best_model)"
   ],
   "metadata": {
    "collapsed": false,
    "pycharm": {
     "name": "#%%\n"
    }
   }
  },
  {
   "cell_type": "code",
   "execution_count": null,
   "outputs": [],
   "source": [],
   "metadata": {
    "collapsed": false,
    "pycharm": {
     "name": "#%%\n"
    }
   }
  },
  {
   "cell_type": "markdown",
   "source": [],
   "metadata": {
    "collapsed": false,
    "pycharm": {
     "name": "#%% md\n"
    }
   }
  }
 ],
 "metadata": {
  "kernelspec": {
   "display_name": "Python 3",
   "language": "python",
   "name": "python3"
  },
  "language_info": {
   "codemirror_mode": {
    "name": "ipython",
    "version": 2
   },
   "file_extension": ".py",
   "mimetype": "text/x-python",
   "name": "python",
   "nbconvert_exporter": "python",
   "pygments_lexer": "ipython2",
   "version": "2.7.6"
  }
 },
 "nbformat": 4,
 "nbformat_minor": 0
}