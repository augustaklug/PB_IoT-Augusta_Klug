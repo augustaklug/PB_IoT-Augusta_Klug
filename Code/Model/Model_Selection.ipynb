{
 "cells": [
  {
   "cell_type": "code",
   "execution_count": 28,
   "metadata": {
    "collapsed": true,
    "pycharm": {
     "name": "#%%\n"
    }
   },
   "outputs": [
    {
     "name": "stdout",
     "output_type": "stream",
     "text": [
      "Requirement already satisfied: sktime in c:\\users\\augus\\anaconda3\\lib\\site-packages (0.11.4)\n",
      "Requirement already satisfied: pandas<1.5.0,>=1.1.0 in c:\\users\\augus\\anaconda3\\lib\\site-packages (from sktime) (1.4.2)\n",
      "Requirement already satisfied: numpy<1.22,>=1.21.0 in c:\\users\\augus\\anaconda3\\lib\\site-packages (from sktime) (1.21.5)\n",
      "Requirement already satisfied: scikit-learn<1.2.0,>=0.24.0 in c:\\users\\augus\\appdata\\roaming\\python\\python39\\site-packages (from sktime) (1.1.2)\n",
      "Requirement already satisfied: scipy<1.9.0 in c:\\users\\augus\\anaconda3\\lib\\site-packages (from sktime) (1.7.3)\n",
      "Requirement already satisfied: deprecated>=1.2.13 in c:\\users\\augus\\anaconda3\\lib\\site-packages (from sktime) (1.2.13)\n",
      "Requirement already satisfied: statsmodels>=0.12.1 in c:\\users\\augus\\anaconda3\\lib\\site-packages (from sktime) (0.13.2)\n",
      "Requirement already satisfied: numba>=0.53 in c:\\users\\augus\\anaconda3\\lib\\site-packages (from sktime) (0.55.1)\n",
      "Requirement already satisfied: wrapt<2,>=1.10 in c:\\users\\augus\\anaconda3\\lib\\site-packages (from deprecated>=1.2.13->sktime) (1.12.1)\n",
      "Requirement already satisfied: llvmlite<0.39,>=0.38.0rc1 in c:\\users\\augus\\anaconda3\\lib\\site-packages (from numba>=0.53->sktime) (0.38.0)\n",
      "Requirement already satisfied: setuptools in c:\\users\\augus\\anaconda3\\lib\\site-packages (from numba>=0.53->sktime) (61.2.0)\n",
      "Requirement already satisfied: python-dateutil>=2.8.1 in c:\\users\\augus\\anaconda3\\lib\\site-packages (from pandas<1.5.0,>=1.1.0->sktime) (2.8.2)\n",
      "Requirement already satisfied: pytz>=2020.1 in c:\\users\\augus\\anaconda3\\lib\\site-packages (from pandas<1.5.0,>=1.1.0->sktime) (2021.3)\n",
      "Requirement already satisfied: six>=1.5 in c:\\users\\augus\\anaconda3\\lib\\site-packages (from python-dateutil>=2.8.1->pandas<1.5.0,>=1.1.0->sktime) (1.16.0)\n",
      "Requirement already satisfied: threadpoolctl>=2.0.0 in c:\\users\\augus\\anaconda3\\lib\\site-packages (from scikit-learn<1.2.0,>=0.24.0->sktime) (2.2.0)\n",
      "Requirement already satisfied: joblib>=1.0.0 in c:\\users\\augus\\anaconda3\\lib\\site-packages (from scikit-learn<1.2.0,>=0.24.0->sktime) (1.1.0)\n",
      "Requirement already satisfied: patsy>=0.5.2 in c:\\users\\augus\\anaconda3\\lib\\site-packages (from statsmodels>=0.12.1->sktime) (0.5.2)\n",
      "Requirement already satisfied: packaging>=21.3 in c:\\users\\augus\\anaconda3\\lib\\site-packages (from statsmodels>=0.12.1->sktime) (21.3)\n",
      "Requirement already satisfied: pyparsing!=3.0.5,>=2.0.2 in c:\\users\\augus\\anaconda3\\lib\\site-packages (from packaging>=21.3->statsmodels>=0.12.1->sktime) (3.0.4)\n"
     ]
    }
   ],
   "source": [
    "#!pip install sktime --user"
   ]
  },
  {
   "cell_type": "code",
   "execution_count": 29,
   "outputs": [],
   "source": [
    "import pandas as pd\n",
    "import seaborn as sns\n",
    "import numpy as np\n",
    "import matplotlib.pyplot as plt\n",
    "import warnings\n",
    "warnings.filterwarnings(\"ignore\")\n",
    "\n",
    "sns.set(style=\"whitegrid\", palette=\"Dark2\")\n",
    "\n",
    "from sklearn.model_selection import train_test_split"
   ],
   "metadata": {
    "collapsed": false,
    "pycharm": {
     "name": "#%%\n"
    }
   }
  },
  {
   "cell_type": "code",
   "execution_count": 30,
   "outputs": [],
   "source": [
    "df = pd.read_csv('../../Data/Processed/Occupancy_processed.csv', parse_dates=['date'])\n",
    "df.set_index('date', inplace=True)"
   ],
   "metadata": {
    "collapsed": false,
    "pycharm": {
     "name": "#%%\n"
    }
   }
  },
  {
   "cell_type": "code",
   "execution_count": 31,
   "outputs": [],
   "source": [
    "X = df.drop(['Occupancy'], axis=1)\n",
    "y = df.Occupancy"
   ],
   "metadata": {
    "collapsed": false,
    "pycharm": {
     "name": "#%%\n"
    }
   }
  },
  {
   "cell_type": "code",
   "execution_count": 32,
   "outputs": [],
   "source": [
    "X_train, X_test, y_train, y_test = train_test_split(X, y)"
   ],
   "metadata": {
    "collapsed": false,
    "pycharm": {
     "name": "#%%\n"
    }
   }
  },
  {
   "cell_type": "code",
   "execution_count": 33,
   "outputs": [
    {
     "name": "stdout",
     "output_type": "stream",
     "text": [
      "(15420, 5) (15420,) (5140, 5) (5140,)\n"
     ]
    }
   ],
   "source": [
    "print(X_train.shape, y_train.shape, X_test.shape, y_test.shape)"
   ],
   "metadata": {
    "collapsed": false,
    "pycharm": {
     "name": "#%%\n"
    }
   }
  }
 ],
 "metadata": {
  "kernelspec": {
   "display_name": "Python 3",
   "language": "python",
   "name": "python3"
  },
  "language_info": {
   "codemirror_mode": {
    "name": "ipython",
    "version": 2
   },
   "file_extension": ".py",
   "mimetype": "text/x-python",
   "name": "python",
   "nbconvert_exporter": "python",
   "pygments_lexer": "ipython2",
   "version": "2.7.6"
  }
 },
 "nbformat": 4,
 "nbformat_minor": 0
}