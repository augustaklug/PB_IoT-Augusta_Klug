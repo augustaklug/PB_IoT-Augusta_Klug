{
 "cells": [
  {
   "cell_type": "code",
   "execution_count": 39,
   "metadata": {
    "collapsed": true,
    "pycharm": {
     "name": "#%%\n"
    }
   },
   "outputs": [
    {
     "data": {
      "text/plain": "<IPython.core.display.HTML object>",
      "text/html": "\n            <script src=\"/static/components/requirejs/require.js\"></script>\n            <script>\n              requirejs.config({\n                paths: {\n                  base: '/static/base',\n                  plotly: 'https://cdn.plot.ly/plotly-latest.min.js?noext',\n                },\n              });\n            </script>\n            "
     },
     "metadata": {},
     "output_type": "display_data"
    },
    {
     "data": {
      "text/plain": "<IPython.core.display.HTML object>",
      "text/html": "\n            <script src=\"/static/components/requirejs/require.js\"></script>\n            <script>\n              requirejs.config({\n                paths: {\n                  base: '/static/base',\n                  plotly: 'https://cdn.plot.ly/plotly-latest.min.js?noext',\n                },\n              });\n            </script>\n            "
     },
     "metadata": {},
     "output_type": "display_data"
    },
    {
     "data": {
      "text/plain": "<IPython.core.display.HTML object>",
      "text/html": "\n            <script src=\"/static/components/requirejs/require.js\"></script>\n            <script>\n              requirejs.config({\n                paths: {\n                  base: '/static/base',\n                  plotly: 'https://cdn.plot.ly/plotly-latest.min.js?noext',\n                },\n              });\n            </script>\n            "
     },
     "metadata": {},
     "output_type": "display_data"
    }
   ],
   "source": [
    "#!pip install pycaret --user"
   ]
  },
  {
   "cell_type": "code",
   "execution_count": 40,
   "outputs": [
    {
     "data": {
      "text/plain": "<IPython.core.display.HTML object>",
      "text/html": "\n            <script src=\"/static/components/requirejs/require.js\"></script>\n            <script>\n              requirejs.config({\n                paths: {\n                  base: '/static/base',\n                  plotly: 'https://cdn.plot.ly/plotly-latest.min.js?noext',\n                },\n              });\n            </script>\n            "
     },
     "metadata": {},
     "output_type": "display_data"
    },
    {
     "data": {
      "text/plain": "<IPython.core.display.HTML object>",
      "text/html": "\n            <script src=\"/static/components/requirejs/require.js\"></script>\n            <script>\n              requirejs.config({\n                paths: {\n                  base: '/static/base',\n                  plotly: 'https://cdn.plot.ly/plotly-latest.min.js?noext',\n                },\n              });\n            </script>\n            "
     },
     "metadata": {},
     "output_type": "display_data"
    },
    {
     "data": {
      "text/plain": "<IPython.core.display.HTML object>",
      "text/html": "\n            <script src=\"/static/components/requirejs/require.js\"></script>\n            <script>\n              requirejs.config({\n                paths: {\n                  base: '/static/base',\n                  plotly: 'https://cdn.plot.ly/plotly-latest.min.js?noext',\n                },\n              });\n            </script>\n            "
     },
     "metadata": {},
     "output_type": "display_data"
    }
   ],
   "source": [
    "import pandas as pd\n",
    "import seaborn as sns\n",
    "import numpy as np\n",
    "import matplotlib.pyplot as plt\n",
    "import warnings\n",
    "warnings.filterwarnings(\"ignore\")\n",
    "\n",
    "sns.set(style=\"whitegrid\", palette=\"Dark2\")\n",
    "\n",
    "from sklearn.model_selection import train_test_split"
   ],
   "metadata": {
    "collapsed": false,
    "pycharm": {
     "name": "#%%\n"
    }
   }
  },
  {
   "cell_type": "code",
   "execution_count": 41,
   "outputs": [
    {
     "data": {
      "text/plain": "<IPython.core.display.HTML object>",
      "text/html": "\n            <script src=\"/static/components/requirejs/require.js\"></script>\n            <script>\n              requirejs.config({\n                paths: {\n                  base: '/static/base',\n                  plotly: 'https://cdn.plot.ly/plotly-latest.min.js?noext',\n                },\n              });\n            </script>\n            "
     },
     "metadata": {},
     "output_type": "display_data"
    },
    {
     "data": {
      "text/plain": "<IPython.core.display.HTML object>",
      "text/html": "\n            <script src=\"/static/components/requirejs/require.js\"></script>\n            <script>\n              requirejs.config({\n                paths: {\n                  base: '/static/base',\n                  plotly: 'https://cdn.plot.ly/plotly-latest.min.js?noext',\n                },\n              });\n            </script>\n            "
     },
     "metadata": {},
     "output_type": "display_data"
    },
    {
     "data": {
      "text/plain": "<IPython.core.display.HTML object>",
      "text/html": "\n            <script src=\"/static/components/requirejs/require.js\"></script>\n            <script>\n              requirejs.config({\n                paths: {\n                  base: '/static/base',\n                  plotly: 'https://cdn.plot.ly/plotly-latest.min.js?noext',\n                },\n              });\n            </script>\n            "
     },
     "metadata": {},
     "output_type": "display_data"
    }
   ],
   "source": [
    "df = pd.read_csv('../../Data/Processed/Occupancy_processed.csv', parse_dates=['date'])"
   ],
   "metadata": {
    "collapsed": false,
    "pycharm": {
     "name": "#%%\n"
    }
   }
  },
  {
   "cell_type": "markdown",
   "source": [
    "## Divisão manual em treino-teste"
   ],
   "metadata": {
    "collapsed": false,
    "pycharm": {
     "name": "#%% md\n"
    }
   }
  },
  {
   "cell_type": "code",
   "execution_count": 42,
   "outputs": [
    {
     "data": {
      "text/plain": "<IPython.core.display.HTML object>",
      "text/html": "\n            <script src=\"/static/components/requirejs/require.js\"></script>\n            <script>\n              requirejs.config({\n                paths: {\n                  base: '/static/base',\n                  plotly: 'https://cdn.plot.ly/plotly-latest.min.js?noext',\n                },\n              });\n            </script>\n            "
     },
     "metadata": {},
     "output_type": "display_data"
    },
    {
     "data": {
      "text/plain": "<IPython.core.display.HTML object>",
      "text/html": "\n            <script src=\"/static/components/requirejs/require.js\"></script>\n            <script>\n              requirejs.config({\n                paths: {\n                  base: '/static/base',\n                  plotly: 'https://cdn.plot.ly/plotly-latest.min.js?noext',\n                },\n              });\n            </script>\n            "
     },
     "metadata": {},
     "output_type": "display_data"
    },
    {
     "data": {
      "text/plain": "<IPython.core.display.HTML object>",
      "text/html": "\n            <script src=\"/static/components/requirejs/require.js\"></script>\n            <script>\n              requirejs.config({\n                paths: {\n                  base: '/static/base',\n                  plotly: 'https://cdn.plot.ly/plotly-latest.min.js?noext',\n                },\n              });\n            </script>\n            "
     },
     "metadata": {},
     "output_type": "display_data"
    }
   ],
   "source": [
    "X = df.drop(['Occupancy'], axis=1)\n",
    "y = df.Occupancy"
   ],
   "metadata": {
    "collapsed": false,
    "pycharm": {
     "name": "#%%\n"
    }
   }
  },
  {
   "cell_type": "code",
   "execution_count": 43,
   "outputs": [
    {
     "data": {
      "text/plain": "<IPython.core.display.HTML object>",
      "text/html": "\n            <script src=\"/static/components/requirejs/require.js\"></script>\n            <script>\n              requirejs.config({\n                paths: {\n                  base: '/static/base',\n                  plotly: 'https://cdn.plot.ly/plotly-latest.min.js?noext',\n                },\n              });\n            </script>\n            "
     },
     "metadata": {},
     "output_type": "display_data"
    },
    {
     "data": {
      "text/plain": "<IPython.core.display.HTML object>",
      "text/html": "\n            <script src=\"/static/components/requirejs/require.js\"></script>\n            <script>\n              requirejs.config({\n                paths: {\n                  base: '/static/base',\n                  plotly: 'https://cdn.plot.ly/plotly-latest.min.js?noext',\n                },\n              });\n            </script>\n            "
     },
     "metadata": {},
     "output_type": "display_data"
    },
    {
     "data": {
      "text/plain": "<IPython.core.display.HTML object>",
      "text/html": "\n            <script src=\"/static/components/requirejs/require.js\"></script>\n            <script>\n              requirejs.config({\n                paths: {\n                  base: '/static/base',\n                  plotly: 'https://cdn.plot.ly/plotly-latest.min.js?noext',\n                },\n              });\n            </script>\n            "
     },
     "metadata": {},
     "output_type": "display_data"
    }
   ],
   "source": [
    "X_train, X_test, y_train, y_test = train_test_split(X, y,stratify = df.Occupancy, test_size = 0.3, random_state = 42)"
   ],
   "metadata": {
    "collapsed": false,
    "pycharm": {
     "name": "#%%\n"
    }
   }
  },
  {
   "cell_type": "code",
   "execution_count": 44,
   "outputs": [
    {
     "data": {
      "text/plain": "<IPython.core.display.HTML object>",
      "text/html": "\n            <script src=\"/static/components/requirejs/require.js\"></script>\n            <script>\n              requirejs.config({\n                paths: {\n                  base: '/static/base',\n                  plotly: 'https://cdn.plot.ly/plotly-latest.min.js?noext',\n                },\n              });\n            </script>\n            "
     },
     "metadata": {},
     "output_type": "display_data"
    },
    {
     "data": {
      "text/plain": "<IPython.core.display.HTML object>",
      "text/html": "\n            <script src=\"/static/components/requirejs/require.js\"></script>\n            <script>\n              requirejs.config({\n                paths: {\n                  base: '/static/base',\n                  plotly: 'https://cdn.plot.ly/plotly-latest.min.js?noext',\n                },\n              });\n            </script>\n            "
     },
     "metadata": {},
     "output_type": "display_data"
    },
    {
     "data": {
      "text/plain": "<IPython.core.display.HTML object>",
      "text/html": "\n            <script src=\"/static/components/requirejs/require.js\"></script>\n            <script>\n              requirejs.config({\n                paths: {\n                  base: '/static/base',\n                  plotly: 'https://cdn.plot.ly/plotly-latest.min.js?noext',\n                },\n              });\n            </script>\n            "
     },
     "metadata": {},
     "output_type": "display_data"
    },
    {
     "name": "stdout",
     "output_type": "stream",
     "text": [
      "(14392, 7) (14392,) (6168, 7) (6168,)\n"
     ]
    }
   ],
   "source": [
    "print(X_train.shape, y_train.shape, X_test.shape, y_test.shape)"
   ],
   "metadata": {
    "collapsed": false,
    "pycharm": {
     "name": "#%%\n"
    }
   }
  },
  {
   "cell_type": "markdown",
   "source": [
    "### Checando distribuição de classes entre as amostras"
   ],
   "metadata": {
    "collapsed": false,
    "pycharm": {
     "name": "#%% md\n"
    }
   }
  },
  {
   "cell_type": "code",
   "execution_count": 45,
   "outputs": [
    {
     "data": {
      "text/plain": "<IPython.core.display.HTML object>",
      "text/html": "\n            <script src=\"/static/components/requirejs/require.js\"></script>\n            <script>\n              requirejs.config({\n                paths: {\n                  base: '/static/base',\n                  plotly: 'https://cdn.plot.ly/plotly-latest.min.js?noext',\n                },\n              });\n            </script>\n            "
     },
     "metadata": {},
     "output_type": "display_data"
    },
    {
     "data": {
      "text/plain": "<IPython.core.display.HTML object>",
      "text/html": "\n            <script src=\"/static/components/requirejs/require.js\"></script>\n            <script>\n              requirejs.config({\n                paths: {\n                  base: '/static/base',\n                  plotly: 'https://cdn.plot.ly/plotly-latest.min.js?noext',\n                },\n              });\n            </script>\n            "
     },
     "metadata": {},
     "output_type": "display_data"
    },
    {
     "data": {
      "text/plain": "<IPython.core.display.HTML object>",
      "text/html": "\n            <script src=\"/static/components/requirejs/require.js\"></script>\n            <script>\n              requirejs.config({\n                paths: {\n                  base: '/static/base',\n                  plotly: 'https://cdn.plot.ly/plotly-latest.min.js?noext',\n                },\n              });\n            </script>\n            "
     },
     "metadata": {},
     "output_type": "display_data"
    },
    {
     "data": {
      "text/plain": "           Dados Originais  Treinamento     Teste\nEmpty             0.768969     0.768969  0.768969\nOccupancy         0.231031     0.231031  0.231031",
      "text/html": "<div>\n<style scoped>\n    .dataframe tbody tr th:only-of-type {\n        vertical-align: middle;\n    }\n\n    .dataframe tbody tr th {\n        vertical-align: top;\n    }\n\n    .dataframe thead th {\n        text-align: right;\n    }\n</style>\n<table border=\"1\" class=\"dataframe\">\n  <thead>\n    <tr style=\"text-align: right;\">\n      <th></th>\n      <th>Dados Originais</th>\n      <th>Treinamento</th>\n      <th>Teste</th>\n    </tr>\n  </thead>\n  <tbody>\n    <tr>\n      <th>Empty</th>\n      <td>0.768969</td>\n      <td>0.768969</td>\n      <td>0.768969</td>\n    </tr>\n    <tr>\n      <th>Occupancy</th>\n      <td>0.231031</td>\n      <td>0.231031</td>\n      <td>0.231031</td>\n    </tr>\n  </tbody>\n</table>\n</div>"
     },
     "execution_count": 45,
     "metadata": {},
     "output_type": "execute_result"
    }
   ],
   "source": [
    "# checando distribuição entre as amostras\n",
    "dist = pd.DataFrame(df.Occupancy.value_counts(normalize = True).values, columns = ['Dados Originais'],\n",
    "                    index = df.Occupancy.value_counts().index)\n",
    "dist['Treinamento'] = y_train.value_counts(normalize = True).values\n",
    "dist['Teste'] = y_test.value_counts(normalize = True).values\n",
    "dist"
   ],
   "metadata": {
    "collapsed": false,
    "pycharm": {
     "name": "#%%\n"
    }
   }
  },
  {
   "cell_type": "markdown",
   "source": [
    "## Comparação de modelos com pycaret"
   ],
   "metadata": {
    "collapsed": false,
    "pycharm": {
     "name": "#%% md\n"
    }
   }
  },
  {
   "cell_type": "code",
   "execution_count": 46,
   "outputs": [
    {
     "data": {
      "text/plain": "<IPython.core.display.HTML object>",
      "text/html": "\n            <script src=\"/static/components/requirejs/require.js\"></script>\n            <script>\n              requirejs.config({\n                paths: {\n                  base: '/static/base',\n                  plotly: 'https://cdn.plot.ly/plotly-latest.min.js?noext',\n                },\n              });\n            </script>\n            "
     },
     "metadata": {},
     "output_type": "display_data"
    },
    {
     "data": {
      "text/plain": "<IPython.core.display.HTML object>",
      "text/html": "\n            <script src=\"/static/components/requirejs/require.js\"></script>\n            <script>\n              requirejs.config({\n                paths: {\n                  base: '/static/base',\n                  plotly: 'https://cdn.plot.ly/plotly-latest.min.js?noext',\n                },\n              });\n            </script>\n            "
     },
     "metadata": {},
     "output_type": "display_data"
    },
    {
     "data": {
      "text/plain": "<IPython.core.display.HTML object>",
      "text/html": "\n            <script src=\"/static/components/requirejs/require.js\"></script>\n            <script>\n              requirejs.config({\n                paths: {\n                  base: '/static/base',\n                  plotly: 'https://cdn.plot.ly/plotly-latest.min.js?noext',\n                },\n              });\n            </script>\n            "
     },
     "metadata": {},
     "output_type": "display_data"
    }
   ],
   "source": [
    "from pycaret.classification import *\n",
    "from pycaret.utils import enable_colab\n",
    "enable_colab()"
   ],
   "metadata": {
    "collapsed": false,
    "pycharm": {
     "name": "#%%\n"
    }
   }
  },
  {
   "cell_type": "code",
   "execution_count": 47,
   "outputs": [
    {
     "data": {
      "text/plain": "<IPython.core.display.HTML object>",
      "text/html": "\n            <script src=\"/static/components/requirejs/require.js\"></script>\n            <script>\n              requirejs.config({\n                paths: {\n                  base: '/static/base',\n                  plotly: 'https://cdn.plot.ly/plotly-latest.min.js?noext',\n                },\n              });\n            </script>\n            "
     },
     "metadata": {},
     "output_type": "display_data"
    },
    {
     "data": {
      "text/plain": "<IPython.core.display.HTML object>",
      "text/html": "\n            <script src=\"/static/components/requirejs/require.js\"></script>\n            <script>\n              requirejs.config({\n                paths: {\n                  base: '/static/base',\n                  plotly: 'https://cdn.plot.ly/plotly-latest.min.js?noext',\n                },\n              });\n            </script>\n            "
     },
     "metadata": {},
     "output_type": "display_data"
    },
    {
     "data": {
      "text/plain": "<IPython.core.display.HTML object>",
      "text/html": "\n            <script src=\"/static/components/requirejs/require.js\"></script>\n            <script>\n              requirejs.config({\n                paths: {\n                  base: '/static/base',\n                  plotly: 'https://cdn.plot.ly/plotly-latest.min.js?noext',\n                },\n              });\n            </script>\n            "
     },
     "metadata": {},
     "output_type": "display_data"
    },
    {
     "data": {
      "text/plain": "<IPython.core.display.HTML object>",
      "text/html": "\n            <script src=\"/static/components/requirejs/require.js\"></script>\n            <script>\n              requirejs.config({\n                paths: {\n                  base: '/static/base',\n                  plotly: 'https://cdn.plot.ly/plotly-latest.min.js?noext',\n                },\n              });\n            </script>\n            "
     },
     "metadata": {},
     "output_type": "display_data"
    },
    {
     "name": "stdout",
     "output_type": "stream",
     "text": [
      "                    Description                   Value\n",
      "0                    Session id                      42\n",
      "1                        Target               Occupancy\n",
      "2                   Target type                  Binary\n",
      "3                Target mapping  Empty: 0, Occupancy: 1\n",
      "4           Original data shape              (20560, 7)\n",
      "5        Transformed data shape              (20560, 6)\n",
      "6   Transformed train set shape              (14391, 6)\n",
      "7    Transformed test set shape               (6169, 6)\n",
      "8               Ignore features                       4\n",
      "9              Numeric features                       5\n",
      "10                   Preprocess                    True\n",
      "11              Imputation type                  simple\n",
      "12           Numeric imputation                    mean\n",
      "13       Categorical imputation                constant\n",
      "14       Low variance threshold                       0\n",
      "15     Remove multicollinearity                    True\n",
      "16  Multicollinearity threshold                     0.9\n",
      "17               Fold Generator         StratifiedKFold\n",
      "18                  Fold Number                      10\n",
      "19                     CPU Jobs                      -1\n",
      "20                      Use GPU                   False\n",
      "21               Log Experiment                   False\n",
      "22              Experiment Name        clf-default-name\n",
      "23                          USI                    701c\n"
     ]
    }
   ],
   "source": [
    "s = setup(data = df,\n",
    "               target = 'Occupancy',\n",
    "               html=False,\n",
    "               ignore_features='date',\n",
    "               remove_multicollinearity=True,\n",
    "               session_id=42)"
   ],
   "metadata": {
    "collapsed": false,
    "pycharm": {
     "name": "#%%\n"
    }
   }
  },
  {
   "cell_type": "code",
   "execution_count": 48,
   "outputs": [
    {
     "data": {
      "text/plain": "<IPython.core.display.HTML object>",
      "text/html": "\n            <script src=\"/static/components/requirejs/require.js\"></script>\n            <script>\n              requirejs.config({\n                paths: {\n                  base: '/static/base',\n                  plotly: 'https://cdn.plot.ly/plotly-latest.min.js?noext',\n                },\n              });\n            </script>\n            "
     },
     "metadata": {},
     "output_type": "display_data"
    },
    {
     "data": {
      "text/plain": "<IPython.core.display.HTML object>",
      "text/html": "\n            <script src=\"/static/components/requirejs/require.js\"></script>\n            <script>\n              requirejs.config({\n                paths: {\n                  base: '/static/base',\n                  plotly: 'https://cdn.plot.ly/plotly-latest.min.js?noext',\n                },\n              });\n            </script>\n            "
     },
     "metadata": {},
     "output_type": "display_data"
    },
    {
     "data": {
      "text/plain": "<IPython.core.display.HTML object>",
      "text/html": "\n            <script src=\"/static/components/requirejs/require.js\"></script>\n            <script>\n              requirejs.config({\n                paths: {\n                  base: '/static/base',\n                  plotly: 'https://cdn.plot.ly/plotly-latest.min.js?noext',\n                },\n              });\n            </script>\n            "
     },
     "metadata": {},
     "output_type": "display_data"
    },
    {
     "data": {
      "text/plain": "<IPython.core.display.HTML object>",
      "text/html": "\n            <script src=\"/static/components/requirejs/require.js\"></script>\n            <script>\n              requirejs.config({\n                paths: {\n                  base: '/static/base',\n                  plotly: 'https://cdn.plot.ly/plotly-latest.min.js?noext',\n                },\n              });\n            </script>\n            "
     },
     "metadata": {},
     "output_type": "display_data"
    },
    {
     "name": "stderr",
     "output_type": "stream",
     "text": [
      "                                                           "
     ]
    },
    {
     "name": "stdout",
     "output_type": "stream",
     "text": [
      "                                    Model  Accuracy     AUC  Recall   Prec.  \\\n",
      "et                 Extra Trees Classifier    0.9930  0.9991  0.9883  0.9815   \n",
      "lightgbm  Light Gradient Boosting Machine    0.9930  0.9992  0.9898  0.9801   \n",
      "rf               Random Forest Classifier    0.9926  0.9987  0.9889  0.9792   \n",
      "gbc          Gradient Boosting Classifier    0.9908  0.9978  0.9934  0.9676   \n",
      "dt               Decision Tree Classifier    0.9905  0.9869  0.9802  0.9787   \n",
      "lr                    Logistic Regression    0.9903  0.9945  0.9964  0.9629   \n",
      "knn                K Neighbors Classifier    0.9899  0.9958  0.9901  0.9671   \n",
      "ada                  Ada Boost Classifier    0.9899  0.9982  0.9922  0.9653   \n",
      "ridge                    Ridge Classifier    0.9895  0.0000  0.9976  0.9588   \n",
      "lda          Linear Discriminant Analysis    0.9894  0.9943  0.9979  0.9580   \n",
      "svm                   SVM - Linear Kernel    0.9887  0.0000  0.9961  0.9573   \n",
      "nb                            Naive Bayes    0.9791  0.9946  0.9991  0.9181   \n",
      "dummy                    Dummy Classifier    0.7690  0.5000  0.0000  0.0000   \n",
      "qda       Quadratic Discriminant Analysis    0.2310  0.0000  1.0000  0.2310   \n",
      "\n",
      "              F1   Kappa     MCC  TT (Sec)  \n",
      "et        0.9849  0.9803  0.9803     0.081  \n",
      "lightgbm  0.9849  0.9803  0.9804     0.039  \n",
      "rf        0.9840  0.9792  0.9792     0.121  \n",
      "gbc       0.9803  0.9743  0.9744     0.168  \n",
      "dt        0.9794  0.9732  0.9732     0.022  \n",
      "lr        0.9793  0.9730  0.9732     0.038  \n",
      "knn       0.9785  0.9719  0.9720     0.036  \n",
      "ada       0.9785  0.9719  0.9721     0.074  \n",
      "ridge     0.9778  0.9709  0.9713     0.017  \n",
      "lda       0.9775  0.9705  0.9709     0.018  \n",
      "svm       0.9762  0.9689  0.9693     0.027  \n",
      "nb        0.9568  0.9430  0.9446     0.018  \n",
      "dummy     0.0000  0.0000  0.0000     0.017  \n",
      "qda       0.3754  0.0000  0.0000     0.019  \n"
     ]
    },
    {
     "name": "stderr",
     "output_type": "stream",
     "text": [
      "\r"
     ]
    }
   ],
   "source": [
    "best_model = compare_models()"
   ],
   "metadata": {
    "collapsed": false,
    "pycharm": {
     "name": "#%%\n"
    }
   }
  },
  {
   "cell_type": "code",
   "execution_count": 49,
   "outputs": [
    {
     "data": {
      "text/plain": "<IPython.core.display.HTML object>",
      "text/html": "\n            <script src=\"/static/components/requirejs/require.js\"></script>\n            <script>\n              requirejs.config({\n                paths: {\n                  base: '/static/base',\n                  plotly: 'https://cdn.plot.ly/plotly-latest.min.js?noext',\n                },\n              });\n            </script>\n            "
     },
     "metadata": {},
     "output_type": "display_data"
    },
    {
     "data": {
      "text/plain": "<IPython.core.display.HTML object>",
      "text/html": "\n            <script src=\"/static/components/requirejs/require.js\"></script>\n            <script>\n              requirejs.config({\n                paths: {\n                  base: '/static/base',\n                  plotly: 'https://cdn.plot.ly/plotly-latest.min.js?noext',\n                },\n              });\n            </script>\n            "
     },
     "metadata": {},
     "output_type": "display_data"
    },
    {
     "data": {
      "text/plain": "<IPython.core.display.HTML object>",
      "text/html": "\n            <script src=\"/static/components/requirejs/require.js\"></script>\n            <script>\n              requirejs.config({\n                paths: {\n                  base: '/static/base',\n                  plotly: 'https://cdn.plot.ly/plotly-latest.min.js?noext',\n                },\n              });\n            </script>\n            "
     },
     "metadata": {},
     "output_type": "display_data"
    },
    {
     "data": {
      "text/plain": "<IPython.core.display.HTML object>",
      "text/html": "\n            <script src=\"/static/components/requirejs/require.js\"></script>\n            <script>\n              requirejs.config({\n                paths: {\n                  base: '/static/base',\n                  plotly: 'https://cdn.plot.ly/plotly-latest.min.js?noext',\n                },\n              });\n            </script>\n            "
     },
     "metadata": {},
     "output_type": "display_data"
    },
    {
     "name": "stdout",
     "output_type": "stream",
     "text": [
      "ExtraTreesClassifier(bootstrap=False, ccp_alpha=0.0, class_weight=None,\n",
      "                     criterion='gini', max_depth=None, max_features='sqrt',\n",
      "                     max_leaf_nodes=None, max_samples=None,\n",
      "                     min_impurity_decrease=0.0, min_samples_leaf=1,\n",
      "                     min_samples_split=2, min_weight_fraction_leaf=0.0,\n",
      "                     n_estimators=100, n_jobs=-1, oob_score=False,\n",
      "                     random_state=42, verbose=0, warm_start=False)\n"
     ]
    }
   ],
   "source": [
    "print(best_model)"
   ],
   "metadata": {
    "collapsed": false,
    "pycharm": {
     "name": "#%%\n"
    }
   }
  },
  {
   "cell_type": "code",
   "execution_count": 50,
   "outputs": [
    {
     "data": {
      "text/plain": "<IPython.core.display.HTML object>",
      "text/html": "\n            <script src=\"/static/components/requirejs/require.js\"></script>\n            <script>\n              requirejs.config({\n                paths: {\n                  base: '/static/base',\n                  plotly: 'https://cdn.plot.ly/plotly-latest.min.js?noext',\n                },\n              });\n            </script>\n            "
     },
     "metadata": {},
     "output_type": "display_data"
    },
    {
     "data": {
      "text/plain": "<IPython.core.display.HTML object>",
      "text/html": "\n            <script src=\"/static/components/requirejs/require.js\"></script>\n            <script>\n              requirejs.config({\n                paths: {\n                  base: '/static/base',\n                  plotly: 'https://cdn.plot.ly/plotly-latest.min.js?noext',\n                },\n              });\n            </script>\n            "
     },
     "metadata": {},
     "output_type": "display_data"
    },
    {
     "data": {
      "text/plain": "<IPython.core.display.HTML object>",
      "text/html": "\n            <script src=\"/static/components/requirejs/require.js\"></script>\n            <script>\n              requirejs.config({\n                paths: {\n                  base: '/static/base',\n                  plotly: 'https://cdn.plot.ly/plotly-latest.min.js?noext',\n                },\n              });\n            </script>\n            "
     },
     "metadata": {},
     "output_type": "display_data"
    },
    {
     "data": {
      "text/plain": "<IPython.core.display.HTML object>",
      "text/html": "\n            <script src=\"/static/components/requirejs/require.js\"></script>\n            <script>\n              requirejs.config({\n                paths: {\n                  base: '/static/base',\n                  plotly: 'https://cdn.plot.ly/plotly-latest.min.js?noext',\n                },\n              });\n            </script>\n            "
     },
     "metadata": {},
     "output_type": "display_data"
    },
    {
     "data": {
      "text/plain": "<Figure size 432x288 with 1 Axes>",
      "image/png": "[encoded data removed]"
     },
     "metadata": {},
     "output_type": "display_data"
    }
   ],
   "source": [
    "plot_model(best_model, plot = 'auc')"
   ],
   "metadata": {
    "collapsed": false,
    "pycharm": {
     "name": "#%%\n"
    }
   }
  },
  {
   "cell_type": "code",
   "execution_count": 51,
   "outputs": [
    {
     "data": {
      "text/plain": "<IPython.core.display.HTML object>",
      "text/html": "\n            <script src=\"/static/components/requirejs/require.js\"></script>\n            <script>\n              requirejs.config({\n                paths: {\n                  base: '/static/base',\n                  plotly: 'https://cdn.plot.ly/plotly-latest.min.js?noext',\n                },\n              });\n            </script>\n            "
     },
     "metadata": {},
     "output_type": "display_data"
    },
    {
     "data": {
      "text/plain": "<IPython.core.display.HTML object>",
      "text/html": "\n            <script src=\"/static/components/requirejs/require.js\"></script>\n            <script>\n              requirejs.config({\n                paths: {\n                  base: '/static/base',\n                  plotly: 'https://cdn.plot.ly/plotly-latest.min.js?noext',\n                },\n              });\n            </script>\n            "
     },
     "metadata": {},
     "output_type": "display_data"
    },
    {
     "data": {
      "text/plain": "<IPython.core.display.HTML object>",
      "text/html": "\n            <script src=\"/static/components/requirejs/require.js\"></script>\n            <script>\n              requirejs.config({\n                paths: {\n                  base: '/static/base',\n                  plotly: 'https://cdn.plot.ly/plotly-latest.min.js?noext',\n                },\n              });\n            </script>\n            "
     },
     "metadata": {},
     "output_type": "display_data"
    },
    {
     "data": {
      "text/plain": "<IPython.core.display.HTML object>",
      "text/html": "\n            <script src=\"/static/components/requirejs/require.js\"></script>\n            <script>\n              requirejs.config({\n                paths: {\n                  base: '/static/base',\n                  plotly: 'https://cdn.plot.ly/plotly-latest.min.js?noext',\n                },\n              });\n            </script>\n            "
     },
     "metadata": {},
     "output_type": "display_data"
    },
    {
     "data": {
      "text/plain": "<Figure size 800x500 with 1 Axes>",
      "image/png": "[encoded data removed]"
     },
     "metadata": {},
     "output_type": "display_data"
    }
   ],
   "source": [
    "plot_model(best_model, plot = 'feature')"
   ],
   "metadata": {
    "collapsed": false,
    "pycharm": {
     "name": "#%%\n"
    }
   }
  },
  {
   "cell_type": "code",
   "execution_count": 52,
   "outputs": [
    {
     "data": {
      "text/plain": "<IPython.core.display.HTML object>",
      "text/html": "\n            <script src=\"/static/components/requirejs/require.js\"></script>\n            <script>\n              requirejs.config({\n                paths: {\n                  base: '/static/base',\n                  plotly: 'https://cdn.plot.ly/plotly-latest.min.js?noext',\n                },\n              });\n            </script>\n            "
     },
     "metadata": {},
     "output_type": "display_data"
    },
    {
     "data": {
      "text/plain": "<IPython.core.display.HTML object>",
      "text/html": "\n            <script src=\"/static/components/requirejs/require.js\"></script>\n            <script>\n              requirejs.config({\n                paths: {\n                  base: '/static/base',\n                  plotly: 'https://cdn.plot.ly/plotly-latest.min.js?noext',\n                },\n              });\n            </script>\n            "
     },
     "metadata": {},
     "output_type": "display_data"
    },
    {
     "data": {
      "text/plain": "<IPython.core.display.HTML object>",
      "text/html": "\n            <script src=\"/static/components/requirejs/require.js\"></script>\n            <script>\n              requirejs.config({\n                paths: {\n                  base: '/static/base',\n                  plotly: 'https://cdn.plot.ly/plotly-latest.min.js?noext',\n                },\n              });\n            </script>\n            "
     },
     "metadata": {},
     "output_type": "display_data"
    },
    {
     "data": {
      "text/plain": "<IPython.core.display.HTML object>",
      "text/html": "\n            <script src=\"/static/components/requirejs/require.js\"></script>\n            <script>\n              requirejs.config({\n                paths: {\n                  base: '/static/base',\n                  plotly: 'https://cdn.plot.ly/plotly-latest.min.js?noext',\n                },\n              });\n            </script>\n            "
     },
     "metadata": {},
     "output_type": "display_data"
    },
    {
     "data": {
      "text/plain": "<Figure size 432x288 with 1 Axes>",
      "image/png": "[encoded data removed]"
     },
     "metadata": {},
     "output_type": "display_data"
    }
   ],
   "source": [
    "plot_model(best_model, plot = 'confusion_matrix')"
   ],
   "metadata": {
    "collapsed": false,
    "pycharm": {
     "name": "#%%\n"
    }
   }
  },
  {
   "cell_type": "code",
   "execution_count": 53,
   "outputs": [
    {
     "data": {
      "text/plain": "<IPython.core.display.HTML object>",
      "text/html": "\n            <script src=\"/static/components/requirejs/require.js\"></script>\n            <script>\n              requirejs.config({\n                paths: {\n                  base: '/static/base',\n                  plotly: 'https://cdn.plot.ly/plotly-latest.min.js?noext',\n                },\n              });\n            </script>\n            "
     },
     "metadata": {},
     "output_type": "display_data"
    },
    {
     "data": {
      "text/plain": "<IPython.core.display.HTML object>",
      "text/html": "\n            <script src=\"/static/components/requirejs/require.js\"></script>\n            <script>\n              requirejs.config({\n                paths: {\n                  base: '/static/base',\n                  plotly: 'https://cdn.plot.ly/plotly-latest.min.js?noext',\n                },\n              });\n            </script>\n            "
     },
     "metadata": {},
     "output_type": "display_data"
    },
    {
     "data": {
      "text/plain": "<IPython.core.display.HTML object>",
      "text/html": "\n            <script src=\"/static/components/requirejs/require.js\"></script>\n            <script>\n              requirejs.config({\n                paths: {\n                  base: '/static/base',\n                  plotly: 'https://cdn.plot.ly/plotly-latest.min.js?noext',\n                },\n              });\n            </script>\n            "
     },
     "metadata": {},
     "output_type": "display_data"
    },
    {
     "data": {
      "text/plain": "<IPython.core.display.HTML object>",
      "text/html": "\n            <script src=\"/static/components/requirejs/require.js\"></script>\n            <script>\n              requirejs.config({\n                paths: {\n                  base: '/static/base',\n                  plotly: 'https://cdn.plot.ly/plotly-latest.min.js?noext',\n                },\n              });\n            </script>\n            "
     },
     "metadata": {},
     "output_type": "display_data"
    },
    {
     "name": "stdout",
     "output_type": "stream",
     "text": [
      "                    Model  Accuracy     AUC  Recall  Prec.  F1   Kappa     MCC\n",
      "0  Extra Trees Classifier     0.993  0.9989       0      0   0  0.9804  0.9805\n"
     ]
    },
    {
     "data": {
      "text/plain": "       Temperature  Light     CO2  HumidityRatio  IsWeekend Occupancy  Label  \\\n14391    20.389999    0.0   513.0       0.004891        0.0     Empty  Empty   \n14392    21.700001    0.0   582.0       0.004587        0.0     Empty  Empty   \n14393    20.790001    0.0  1514.0       0.003959        0.0     Empty  Empty   \n14394    20.745001    0.0  1420.0       0.004101        0.0     Empty  Empty   \n14395    20.500000    0.0   749.0       0.004533        0.0     Empty  Empty   \n...            ...    ...     ...            ...        ...       ...    ...   \n20555    20.600000    0.0   635.0       0.003375        0.0     Empty  Empty   \n20556    20.000000    0.0   539.0       0.005168        1.0     Empty  Empty   \n20557    19.290001    6.0   436.5       0.004288        1.0     Empty  Empty   \n20558    20.200001    0.0   444.0       0.003097        0.0     Empty  Empty   \n20559    19.290001    0.0   431.0       0.004371        1.0     Empty  Empty   \n\n       Score  \n14391   1.00  \n14392   0.99  \n14393   1.00  \n14394   1.00  \n14395   1.00  \n...      ...  \n20555   1.00  \n20556   1.00  \n20557   1.00  \n20558   1.00  \n20559   1.00  \n\n[6169 rows x 8 columns]",
      "text/html": "<div>\n<style scoped>\n    .dataframe tbody tr th:only-of-type {\n        vertical-align: middle;\n    }\n\n    .dataframe tbody tr th {\n        vertical-align: top;\n    }\n\n    .dataframe thead th {\n        text-align: right;\n    }\n</style>\n<table border=\"1\" class=\"dataframe\">\n  <thead>\n    <tr style=\"text-align: right;\">\n      <th></th>\n      <th>Temperature</th>\n      <th>Light</th>\n      <th>CO2</th>\n      <th>HumidityRatio</th>\n      <th>IsWeekend</th>\n      <th>Occupancy</th>\n      <th>Label</th>\n      <th>Score</th>\n    </tr>\n  </thead>\n  <tbody>\n    <tr>\n      <th>14391</th>\n      <td>20.389999</td>\n      <td>0.0</td>\n      <td>513.0</td>\n      <td>0.004891</td>\n      <td>0.0</td>\n      <td>Empty</td>\n      <td>Empty</td>\n      <td>1.00</td>\n    </tr>\n    <tr>\n      <th>14392</th>\n      <td>21.700001</td>\n      <td>0.0</td>\n      <td>582.0</td>\n      <td>0.004587</td>\n      <td>0.0</td>\n      <td>Empty</td>\n      <td>Empty</td>\n      <td>0.99</td>\n    </tr>\n    <tr>\n      <th>14393</th>\n      <td>20.790001</td>\n      <td>0.0</td>\n      <td>1514.0</td>\n      <td>0.003959</td>\n      <td>0.0</td>\n      <td>Empty</td>\n      <td>Empty</td>\n      <td>1.00</td>\n    </tr>\n    <tr>\n      <th>14394</th>\n      <td>20.745001</td>\n      <td>0.0</td>\n      <td>1420.0</td>\n      <td>0.004101</td>\n      <td>0.0</td>\n      <td>Empty</td>\n      <td>Empty</td>\n      <td>1.00</td>\n    </tr>\n    <tr>\n      <th>14395</th>\n      <td>20.500000</td>\n      <td>0.0</td>\n      <td>749.0</td>\n      <td>0.004533</td>\n      <td>0.0</td>\n      <td>Empty</td>\n      <td>Empty</td>\n      <td>1.00</td>\n    </tr>\n    <tr>\n      <th>...</th>\n      <td>...</td>\n      <td>...</td>\n      <td>...</td>\n      <td>...</td>\n      <td>...</td>\n      <td>...</td>\n      <td>...</td>\n      <td>...</td>\n    </tr>\n    <tr>\n      <th>20555</th>\n      <td>20.600000</td>\n      <td>0.0</td>\n      <td>635.0</td>\n      <td>0.003375</td>\n      <td>0.0</td>\n      <td>Empty</td>\n      <td>Empty</td>\n      <td>1.00</td>\n    </tr>\n    <tr>\n      <th>20556</th>\n      <td>20.000000</td>\n      <td>0.0</td>\n      <td>539.0</td>\n      <td>0.005168</td>\n      <td>1.0</td>\n      <td>Empty</td>\n      <td>Empty</td>\n      <td>1.00</td>\n    </tr>\n    <tr>\n      <th>20557</th>\n      <td>19.290001</td>\n      <td>6.0</td>\n      <td>436.5</td>\n      <td>0.004288</td>\n      <td>1.0</td>\n      <td>Empty</td>\n      <td>Empty</td>\n      <td>1.00</td>\n    </tr>\n    <tr>\n      <th>20558</th>\n      <td>20.200001</td>\n      <td>0.0</td>\n      <td>444.0</td>\n      <td>0.003097</td>\n      <td>0.0</td>\n      <td>Empty</td>\n      <td>Empty</td>\n      <td>1.00</td>\n    </tr>\n    <tr>\n      <th>20559</th>\n      <td>19.290001</td>\n      <td>0.0</td>\n      <td>431.0</td>\n      <td>0.004371</td>\n      <td>1.0</td>\n      <td>Empty</td>\n      <td>Empty</td>\n      <td>1.00</td>\n    </tr>\n  </tbody>\n</table>\n<p>6169 rows × 8 columns</p>\n</div>"
     },
     "execution_count": 53,
     "metadata": {},
     "output_type": "execute_result"
    }
   ],
   "source": [
    "predict_model(best_model)"
   ],
   "metadata": {
    "collapsed": false,
    "pycharm": {
     "name": "#%%\n"
    }
   }
  },
  {
   "cell_type": "markdown",
   "source": [],
   "metadata": {
    "collapsed": false,
    "pycharm": {
     "name": "#%% md\n"
    }
   }
  }
 ],
 "metadata": {
  "kernelspec": {
   "display_name": "Python 3",
   "language": "python",
   "name": "python3"
  },
  "language_info": {
   "codemirror_mode": {
    "name": "ipython",
    "version": 2
   },
   "file_extension": ".py",
   "mimetype": "text/x-python",
   "name": "python",
   "nbconvert_exporter": "python",
   "pygments_lexer": "ipython2",
   "version": "2.7.6"
  }
 },
 "nbformat": 4,
 "nbformat_minor": 0
}